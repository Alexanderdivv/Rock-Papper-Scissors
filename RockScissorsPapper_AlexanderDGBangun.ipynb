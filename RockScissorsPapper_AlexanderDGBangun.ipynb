{
  "nbformat": 4,
  "nbformat_minor": 0,
  "metadata": {
    "colab": {
      "name": "RockScissorsPapper-AlexanderDGBangun.ipynb",
      "provenance": [],
      "authorship_tag": "ABX9TyP3f6LNCJg8r2p3+PyfPHmw"
    },
    "kernelspec": {
      "name": "python3",
      "display_name": "Python 3"
    },
    "language_info": {
      "name": "python"
    }
  },
  "cells": [
    {
      "cell_type": "markdown",
      "metadata": {
        "id": "xph3xHpy6_xb"
      },
      "source": [
        "#notes\n",
        "1. dataset yang digunakan: \n",
        "  https://dicodingacademy.blob.core.windows.net/picodiploma/ml_pemula_academy/rockpaperscissors.zip\n",
        "2. pembagian dataset: train set & validation set\n",
        "3. data validation 40%, jumlah keseluruhan data = 2188 (874 data validasi, 1314 data training)\n",
        "4. menggunakan image data generator\n",
        "  mengimplementasikan augmentasi gambar\n",
        "  model sequential\n",
        "  train model <= 30 menit\n",
        "  akurasi >= 85%\n",
        "5. menambah data diri pada submission\n",
        "\n",
        "6. menggunakan > 1 hidden layer\n",
        "7. menerapkan lebih banyak augmentasi gambar\n",
        "8. menggunakan optimizer dan loss-function"
      ]
    },
    {
      "cell_type": "markdown",
      "metadata": {
        "id": "ib1cabIE9Bp3"
      },
      "source": [
        "#Rock Scissors Papper\n",
        "By:\n",
        "Alexander Diva Grael Bangun<br>\n",
        "Belajar Machine Learning Untuk Pemula 2021<br>\n",
        "email: alexanderdivagraelbangun@gmail.com\n"
      ]
    },
    {
      "cell_type": "code",
      "metadata": {
        "id": "yHRnFJi86N7f"
      },
      "source": [
        "#import library\n",
        "import tensorflow as tf\n",
        "from tensorflow.keras.optimizers import RMSprop\n",
        "from tensorflow.keras.preprocessing.image import ImageDataGenerator"
      ],
      "execution_count": 1,
      "outputs": []
    },
    {
      "cell_type": "code",
      "metadata": {
        "colab": {
          "base_uri": "https://localhost:8080/"
        },
        "id": "wBQpaLKSAIt9",
        "outputId": "7653b7b0-a62d-45f0-f89c-ffbb3f6710a8"
      },
      "source": [
        "#import dataset\n",
        "!wget --no-check-certificate \\\n",
        "  https://dicodingacademy.blob.core.windows.net/picodiploma/ml_pemula_academy/rockpaperscissors.zip \\\n",
        "  -O /tmp/rockpaperscissors.zip"
      ],
      "execution_count": 4,
      "outputs": [
        {
          "output_type": "stream",
          "text": [
            "--2021-05-23 11:49:18--  https://dicodingacademy.blob.core.windows.net/picodiploma/ml_pemula_academy/rockpaperscissors.zip\n",
            "Resolving dicodingacademy.blob.core.windows.net (dicodingacademy.blob.core.windows.net)... 52.239.197.36\n",
            "Connecting to dicodingacademy.blob.core.windows.net (dicodingacademy.blob.core.windows.net)|52.239.197.36|:443... connected.\n",
            "HTTP request sent, awaiting response... 200 OK\n",
            "Length: 322873683 (308M) [application/zip]\n",
            "Saving to: ‘/tmp/rockpaperscissors.zip’\n",
            "\n",
            "/tmp/rockpapersciss 100%[===================>] 307.92M   853KB/s    in 6m 19s  \n",
            "\n",
            "2021-05-23 11:55:38 (832 KB/s) - ‘/tmp/rockpaperscissors.zip’ saved [322873683/322873683]\n",
            "\n"
          ],
          "name": "stdout"
        }
      ]
    },
    {
      "cell_type": "code",
      "metadata": {
        "id": "ZqTSfig_Aqe9"
      },
      "source": [
        "#ekstrak dataset\n",
        "import zipfile, os\n",
        "local_zip = '/tmp/rockpaperscissors.zip'\n",
        "zip_ref = zipfile.ZipFile(local_zip, 'r')\n",
        "zip_ref.extractall('/tmp')\n",
        "zip_ref.close()\n",
        "\n",
        "base_dir = '/tmp/images'\n",
        "train_dir = os.path.join(base_dir, 'train')\n",
        "validation_dir = os.path.join(base_dir, 'val')"
      ],
      "execution_count": 5,
      "outputs": []
    },
    {
      "cell_type": "code",
      "metadata": {
        "id": "57mirwdiCTo3"
      },
      "source": [
        "\n"
      ],
      "execution_count": null,
      "outputs": []
    }
  ]
}