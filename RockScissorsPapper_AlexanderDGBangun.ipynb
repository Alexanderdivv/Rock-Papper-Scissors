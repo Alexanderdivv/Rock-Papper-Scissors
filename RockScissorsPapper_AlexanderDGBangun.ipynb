{
  "nbformat": 4,
  "nbformat_minor": 0,
  "metadata": {
    "colab": {
      "name": "RockScissorsPapper-AlexanderDGBangun.ipynb",
      "provenance": [],
      "collapsed_sections": [],
      "authorship_tag": "ABX9TyOIDxdbauHxUNBfjL0T6keA"
    },
    "kernelspec": {
      "name": "python3",
      "display_name": "Python 3"
    },
    "language_info": {
      "name": "python"
    }
  },
  "cells": [
    {
      "cell_type": "markdown",
      "metadata": {
        "id": "xph3xHpy6_xb"
      },
      "source": [
        "#notes\n",
        "1. dataset yang digunakan: \n",
        "  https://dicodingacademy.blob.core.windows.net/picodiploma/ml_pemula_academy/rockpaperscissors.zip\n",
        "2. pembagian dataset: train set & validation set\n",
        "3. data validation 40%, jumlah keseluruhan data = 2188 (874 data validasi, 1314 data training)\n",
        "4. menggunakan image data generator\n",
        "  mengimplementasikan augmentasi gambar\n",
        "  model sequential\n",
        "  train model <= 30 menit\n",
        "  akurasi >= 85%\n",
        "5. menambah data diri pada submission\n",
        "\n",
        "6. menggunakan > 1 hidden layer\n",
        "7. menerapkan lebih banyak augmentasi gambar\n",
        "8. menggunakan optimizer dan loss-function\n",
        "  loss-function menggunakan sparse categorical entropy"
      ]
    },
    {
      "cell_type": "markdown",
      "metadata": {
        "id": "ib1cabIE9Bp3"
      },
      "source": [
        "#Rock Scissors Papper\n",
        "By:\n",
        "Alexander Diva Grael Bangun<br>\n",
        "Belajar Machine Learning Untuk Pemula 2021<br>\n",
        "email: alexanderdivagraelbangun@gmail.com\n"
      ]
    },
    {
      "cell_type": "code",
      "metadata": {
        "id": "yHRnFJi86N7f"
      },
      "source": [
        "#import library\n",
        "import tensorflow as tf\n",
        "from tensorflow.keras.optimizers import RMSprop\n",
        "from tensorflow.keras.preprocessing.image import ImageDataGenerator"
      ],
      "execution_count": 1,
      "outputs": []
    },
    {
      "cell_type": "code",
      "metadata": {
        "colab": {
          "base_uri": "https://localhost:8080/"
        },
        "id": "wBQpaLKSAIt9",
        "outputId": "b126aeba-9844-4850-dfa4-31698a055372"
      },
      "source": [
        "#import dataset\n",
        "!wget --no-check-certificate \\\n",
        "  https://dicodingacademy.blob.core.windows.net/picodiploma/ml_pemula_academy/rockpaperscissors.zip \\\n",
        "  -O /tmp/rockpaperscissors.zip"
      ],
      "execution_count": 2,
      "outputs": [
        {
          "output_type": "stream",
          "text": [
            "--2021-05-23 14:59:30--  https://dicodingacademy.blob.core.windows.net/picodiploma/ml_pemula_academy/rockpaperscissors.zip\n",
            "Resolving dicodingacademy.blob.core.windows.net (dicodingacademy.blob.core.windows.net)... 52.239.197.36\n",
            "Connecting to dicodingacademy.blob.core.windows.net (dicodingacademy.blob.core.windows.net)|52.239.197.36|:443... connected.\n",
            "HTTP request sent, awaiting response... 200 OK\n",
            "Length: 322873683 (308M) [application/zip]\n",
            "Saving to: ‘/tmp/rockpaperscissors.zip’\n",
            "\n",
            "/tmp/rockpapersciss 100%[===================>] 307.92M   701KB/s    in 5m 20s  \n",
            "\n",
            "2021-05-23 15:04:50 (986 KB/s) - ‘/tmp/rockpaperscissors.zip’ saved [322873683/322873683]\n",
            "\n"
          ],
          "name": "stdout"
        }
      ]
    },
    {
      "cell_type": "code",
      "metadata": {
        "id": "ZqTSfig_Aqe9"
      },
      "source": [
        "#ekstrak dataset\n",
        "import zipfile,os\n",
        "local_zip = '/tmp/rockpaperscissors.zip'\n",
        "zip_ref = zipfile.ZipFile(local_zip, 'r')\n",
        "zip_ref.extractall('/tmp')\n",
        "zip_ref.close()"
      ],
      "execution_count": 3,
      "outputs": []
    },
    {
      "cell_type": "code",
      "metadata": {
        "id": "9SERDIntwsVQ"
      },
      "source": [
        "import shutil\n",
        "\n",
        "original = [(r'/tmp/rockpaperscissors/paper'), (r'/tmp/rockpaperscissors/rock'), (r'/tmp/rockpaperscissors/scissors')]\n",
        "target = [(r'/tmp/images/paper'), (r'/tmp/images/rock'), (r'/tmp/images/scissors')]\n",
        "\n",
        "for i in range(len(target)):\n",
        "  shutil.move(original[i],target[i])"
      ],
      "execution_count": 17,
      "outputs": []
    },
    {
      "cell_type": "markdown",
      "metadata": {
        "id": "Mk7aymgm4R6M"
      },
      "source": [
        "#join each dir and seperate to val and train "
      ]
    },
    {
      "cell_type": "code",
      "metadata": {
        "id": "_ZHHsJG04-Sx"
      },
      "source": [
        "train_datagen = ImageDataGenerator(\n",
        "    rescale=1./255,\n",
        "    zoom_range=0.2,\n",
        "    horizontal_flip=True,\n",
        "    validation_split=0.4)\n",
        "\n",
        "val_datagen = ImageDataGenerator(rescale=1./255, validation_split=0.4)\n",
        "\n",
        "train_data = train_datagen.flow_from_directory(train_path, \n",
        "                                               target_size=(224, 224), \n",
        "                                               color_mode='rgb',\n",
        "                                               batch_size=BS, \n",
        "                                               class_mode='categorical',\n",
        "                                               shuffle=True,\n",
        "                                               subset = 'training') \n",
        "\n",
        "val_data = val_datagen.flow_from_directory(train_path, \n",
        "                                           target_size=(224, 224), \n",
        "                                           color_mode='rgb',\n",
        "                                           batch_size=BS, \n",
        "                                           class_mode='categorical',\n",
        "                                           shuffle=False,\n",
        "                                           subset = 'validation')"
      ],
      "execution_count": null,
      "outputs": []
    },
    {
      "cell_type": "code",
      "metadata": {
        "colab": {
          "base_uri": "https://localhost:8080/"
        },
        "id": "57mirwdiCTo3",
        "outputId": "909763ef-b914-4e0e-9052-6faf0db59e08"
      },
      "source": [
        "\n",
        "# print(len(os.listdir('/tmp/rockpaperscissors/rps-cv-images/scissors')))\n",
        "# print(len(os.listdir('/tmp/rockpaperscissors/rock')))\n",
        "# print(len(os.listdir('/tmp/rockpaperscissors/scissors')))\n",
        "# # train_datagen = keras.preprocessing.image.ImageDataGenerator(\n",
        "# #     validation_split=0.4,\n",
        "# # )\n",
        "# with open('/tmp/rockpaperscissors/README_rpc-cv-images.txt', 'r') as f:\n",
        "#     lines = f.readlines()\n"
      ],
      "execution_count": null,
      "outputs": [
        {
          "output_type": "stream",
          "text": [
            "750\n",
            "726\n",
            "750\n"
          ],
          "name": "stdout"
        }
      ]
    },
    {
      "cell_type": "code",
      "metadata": {
        "id": "1YMq0V3iapYU"
      },
      "source": [
        "import splitfolders\n",
        "splitfolders.ratio(\"\", output=\"output\", seed=1337, ratio=(.8, .1, .1), group_prefix=None) # default values"
      ],
      "execution_count": null,
      "outputs": []
    }
  ]
}